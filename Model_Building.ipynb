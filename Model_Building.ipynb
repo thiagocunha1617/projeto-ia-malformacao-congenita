{
 "cells": [
  {
   "cell_type": "code",
   "execution_count": null,
   "id": "687b7726-c45a-4421-bcaa-eb36498578ac",
   "metadata": {},
   "outputs": [],
   "source": [
    "import numpy as np\n",
    "import matplotlib.pyplot as plt\n",
    "import pandas as pd"
   ]
  },
  {
   "cell_type": "code",
   "execution_count": null,
   "id": "3c7b9680-6e37-4bc5-8ca7-e410f6df428e",
   "metadata": {},
   "outputs": [
    {
     "data": {
      "text/html": [
       "<img src=\"https://i1.wp.com/portaltelemedicina.com.br/wp-content/uploads/2019/12/logo-portal-telemedicina.png?fit=760%2C298&ssl=1\"/>"
      ],
      "text/plain": [
       "<IPython.core.display.Image object>"
      ]
     },
     "execution_count": 2,
     "metadata": {},
     "output_type": "execute_result"
    }
   ],
   "source": [
    "from IPython.display import Image\n",
    "from IPython.core.display import HTML \n",
    "Image(url= \"https://i1.wp.com/portaltelemedicina.com.br/wp-content/uploads/2019/12/logo-portal-telemedicina.png?fit=760%2C298&ssl=1\")"
   ]
  },
  {
   "cell_type": "markdown",
   "id": "eac69021-fa61-4535-84ed-e2d36422fbe9",
   "metadata": {},
   "source": [
    "## Build Clean Dataset for Training"
   ]
  },
  {
   "cell_type": "code",
   "execution_count": null,
   "id": "c69a6b87-1b9b-4ecb-a804-5ad384345718",
   "metadata": {},
   "outputs": [],
   "source": [
    "features = [ 'mother_age', 'mother_marital', 'mother_education', \n",
    "            'mother_occupation', 'living_children', 'dead_children', 'mother_residence', \n",
    "            'pregnancy_weeks', 'pregnancy_type', 'delivery_type', 'prenatal_consultations', 'birth_date', \n",
    "            'sex', 'apgar1', 'apgar5', 'race_color', 'birth_weight', 'mother_schooling', 'Year', 'congenital_anomaly']\n",
    "\n",
    "def get_clean_data(file_path):\n",
    "    df = pd.read_csv(file_path)\n",
    "    ## step 1: drop NA in congenital_anomaly\n",
    "    df = df.loc[df['congenital_anomaly'] != 9]\n",
    "    ## step 2: select useful features\n",
    "    df = df.loc[:, features]\n",
    "    ## step 3: drop NA\n",
    "    df = df.dropna()\n",
    "    return df"
   ]
  },
  {
   "cell_type": "code",
   "execution_count": null,
   "id": "0614fda3-e081-4464-8116-aa12f16cfd08",
   "metadata": {},
   "outputs": [],
   "source": [
    "df = get_clean_data(\"datasets/LivingBirthAC2015.csv\")"
   ]
  },
  {
   "cell_type": "code",
   "execution_count": null,
   "id": "0f744de2-5d9e-43a0-9a43-fc65e6807805",
   "metadata": {},
   "outputs": [
    {
     "name": "stdout",
     "output_type": "stream",
     "text": [
      "LivingBirthRS2018.csv (124220, 20)\n",
      "LivingBirthRS2021.csv (234759, 20)\n",
      "LivingBirthBA2016.csv (234759, 20)\n",
      "LivingBirthRJ2021.csv (379978, 20)\n",
      "LivingBirthDF2021.csv (408687, 20)\n",
      "LivingBirthRN2021.csv (440615, 20)\n",
      "LivingBirthPE2016.csv (440615, 20)\n",
      "LivingBirthCE2021.csv (513657, 20)\n",
      "LivingBirthPB2019.csv (558824, 20)\n",
      "LivingBirthAM2016.csv (558824, 20)\n",
      "LivingBirthRS2020.csv (676753, 20)\n",
      "LivingBirthPE2017.csv (797957, 20)\n",
      "LivingBirthPI2015.csv (825574, 20)\n",
      "LivingBirthAC2019.csv (835987, 20)\n",
      "LivingBirthSE2018.csv (860510, 20)\n",
      "LivingBirthAC2016.csv (860510, 20)\n",
      "LivingBirthRJ2018.csv (1040698, 20)\n",
      "LivingBirthDF2016.csv (1040698, 20)\n",
      "LivingBirthAP2020.csv (1053037, 20)\n",
      "LivingBirthAL2017.csv (1089097, 20)\n",
      "LivingBirthSC2016.csv (1089097, 20)\n",
      "LivingBirthPE2015.csv (1220638, 20)\n",
      "LivingBirthMT2021.csv (1273795, 20)\n",
      "LivingBirthAM2017.csv (1341568, 20)\n",
      "LivingBirthMA2018.csv (1428129, 20)\n",
      "LivingBirthES2016.csv (1428129, 20)\n",
      "LivingBirthMS2020.csv (1467034, 20)\n",
      "LivingBirthGO2018.csv (1545879, 20)\n",
      "LivingBirthPE2020.csv (1662663, 20)\n",
      "LivingBirthRS2015.csv (1790648, 20)\n",
      "LivingBirthRS2016.csv (1790648, 20)\n",
      "LivingBirthPI2018.csv (1818866, 20)\n",
      "LivingBirthMA2019.csv (1905038, 20)\n",
      "LivingBirthAM2021.csv (1972606, 20)\n",
      "LivingBirthRN2016.csv (1972606, 20)\n",
      "LivingBirthAL2020.csv (2015829, 20)\n",
      "LivingBirthPA2017.csv (2097652, 20)\n",
      "LivingBirthRS2017.csv (2222960, 20)\n",
      "LivingBirthPB2021.csv (2264554, 20)\n",
      "LivingBirthAP2019.csv (2277122, 20)\n",
      "LivingBirthTO2020.csv (2299291, 20)\n",
      "LivingBirthRO2016.csv (2299291, 20)\n",
      "LivingBirthDF2018.csv (2320349, 20)\n",
      "LivingBirthGO2015.csv (2378473, 20)\n",
      "LivingBirthPA2019.csv (2481358, 20)\n",
      "LivingBirthDF2017.csv (2501566, 20)\n",
      "LivingBirthAM2018.csv (2570863, 20)\n",
      "LivingBirthES2019.csv (2623530, 20)\n",
      "LivingBirthMA2016.csv (2623530, 20)\n",
      "LivingBirthPA2016.csv (2623530, 20)\n",
      "LivingBirthCE2019.csv (2703922, 20)\n",
      "LivingBirthMT2020.csv (2757499, 20)\n",
      "LivingBirthAC2020.csv (2767760, 20)\n",
      "LivingBirthRR2021.csv (2779505, 20)\n",
      "LivingBirthRJ2015.csv (2961193, 20)\n",
      "LivingBirthCE2015.csv (3032187, 20)\n",
      "LivingBirthBA2018.csv (3160823, 20)\n",
      "LivingBirthTO2018.csv (3184531, 20)\n",
      "LivingBirthSE2015.csv (3208880, 20)\n",
      "LivingBirthPR2019.csv (3355117, 20)\n",
      "LivingBirthAC2017.csv (3363158, 20)\n",
      "LivingBirthAC2018.csv (3371316, 20)\n",
      "LivingBirthBA2020.csv (3501133, 20)\n",
      "LivingBirthES2018.csv (3553647, 20)\n",
      "LivingBirthCE2020.csv (3629172, 20)\n",
      "LivingBirthTO2021.csv (3650912, 20)\n",
      "LivingBirthGO2019.csv (3732961, 20)\n",
      "LivingBirthPR2015.csv (3883492, 20)\n",
      "LivingBirthSP2015.csv (4405191, 20)\n",
      "LivingBirthGO2017.csv (4470283, 20)\n",
      "LivingBirthMG2016.csv (4470283, 20)\n",
      "LivingBirthSC2018.csv (4561129, 20)\n",
      "LivingBirthAL2016.csv (4561129, 20)\n",
      "LivingBirthPA2020.csv (4659920, 20)\n",
      "LivingBirthPB2017.csv (4702863, 20)\n",
      "LivingBirthMA2021.csv (4778819, 20)\n",
      "LivingBirthPI2019.csv (4808584, 20)\n",
      "LivingBirthSC2017.csv (4899097, 20)\n",
      "LivingBirthDF2015.csv (4927259, 20)\n",
      "LivingBirthES2017.csv (4977925, 20)\n",
      "LivingBirthMG2018.csv (5185974, 20)\n",
      "LivingBirthAL2021.csv (5229233, 20)\n",
      "LivingBirthRO2019.csv (5249196, 20)\n",
      "LivingBirthCE2018.csv (5328636, 20)\n",
      "LivingBirthRJ2020.csv (5481627, 20)\n",
      "LivingBirthRR2018.csv (5493467, 20)\n",
      "LivingBirthBA2021.csv (5623195, 20)\n",
      "LivingBirthBA2017.csv (5745005, 20)\n",
      "LivingBirthRR2019.csv (5758100, 20)\n",
      "LivingBirthMT2015.csv (5810299, 20)\n",
      "LivingBirthAC2015.csv (5815769, 20)\n",
      "LivingBirthRR2017.csv (5826358, 20)\n",
      "LivingBirthSE2019.csv (5849586, 20)\n",
      "LivingBirthAP2016.csv (5849586, 20)\n",
      "LivingBirthMG2017.csv (6044348, 20)\n",
      "LivingBirthES2015.csv (6095280, 20)\n",
      "LivingBirthSP2020.csv (6598529, 20)\n",
      "LivingBirthAC2021.csv (6608334, 20)\n",
      "LivingBirthMS2019.csv (6650694, 20)\n",
      "LivingBirthPR2020.csv (6786867, 20)\n",
      "LivingBirthMG2019.csv (6996646, 20)\n",
      "LivingBirthMT2016.csv (6996646, 20)\n",
      "LivingBirthCE2016.csv (6996646, 20)\n",
      "LivingBirthAM2015.csv (7046435, 20)\n",
      "LivingBirthBA2015.csv (7156874, 20)\n",
      "LivingBirthPA2018.csv (7259779, 20)\n",
      "LivingBirthPR2018.csv (7407285, 20)\n",
      "LivingBirthRO2021.csv (7423101, 20)\n",
      "LivingBirthSC2021.csv (7503878, 20)\n",
      "LivingBirthMA2015.csv (7577782, 20)\n",
      "LivingBirthRN2017.csv (7606387, 20)\n",
      "LivingBirthMS2015.csv (7646858, 20)\n",
      "LivingBirthRR2020.csv (7659034, 20)\n",
      "LivingBirthTO2015.csv (7680062, 20)\n",
      "LivingBirthAM2020.csv (7743820, 20)\n",
      "LivingBirthSE2016.csv (7743820, 20)\n",
      "LivingBirthMA2017.csv (7819651, 20)\n",
      "LivingBirthMS2021.csv (7859077, 20)\n",
      "LivingBirthRJ2016.csv (7859077, 20)\n",
      "LivingBirthPA2021.csv (7962997, 20)\n",
      "LivingBirthBA2019.csv (8099264, 20)\n",
      "LivingBirthSE2017.csv (8123930, 20)\n",
      "LivingBirthSC2020.csv (8214419, 20)\n",
      "LivingBirthAL2015.csv (8248505, 20)\n",
      "LivingBirthPR2017.csv (8397677, 20)\n",
      "LivingBirthPR2021.csv (8528157, 20)\n",
      "LivingBirthTO2019.csv (8550982, 20)\n",
      "LivingBirthDF2020.csv (8580989, 20)\n",
      "LivingBirthRO2017.csv (8598019, 20)\n",
      "LivingBirthAM2019.csv (8665858, 20)\n",
      "LivingBirthSC2019.csv (8756418, 20)\n",
      "LivingBirthRO2020.csv (8775054, 20)\n",
      "LivingBirthPE2018.csv (8900182, 20)\n",
      "LivingBirthMG2020.csv (9107523, 20)\n",
      "LivingBirthSP2018.csv (9654187, 20)\n",
      "LivingBirthSE2021.csv (9676508, 20)\n",
      "LivingBirthAL2018.csv (9715483, 20)\n",
      "LivingBirthMT2017.csv (9768076, 20)\n",
      "LivingBirthCE2017.csv (9839797, 20)\n",
      "LivingBirthPI2020.csv (9868674, 20)\n",
      "LivingBirthPI2016.csv (9868674, 20)\n",
      "LivingBirthPR2016.csv (9868674, 20)\n",
      "LivingBirthRN2018.csv (9901369, 20)\n",
      "LivingBirthAP2021.csv (9913780, 20)\n",
      "LivingBirthPB2020.csv (9955903, 20)\n",
      "LivingBirthMS2017.csv (9998040, 20)\n",
      "LivingBirthRJ2017.csv (10179656, 20)\n",
      "LivingBirthSC2015.csv (10266289, 20)\n",
      "LivingBirthRN2015.csv (10293134, 20)\n",
      "LivingBirthRO2018.csv (10313896, 20)\n",
      "LivingBirthPE2021.csv (10429919, 20)\n",
      "LivingBirthRN2019.csv (10462398, 20)\n",
      "LivingBirthDF2019.csv (10487707, 20)\n",
      "LivingBirthGO2021.csv (10569603, 20)\n",
      "LivingBirthSE2020.csv (10592724, 20)\n",
      "LivingBirthPI2017.csv (10617624, 20)\n",
      "LivingBirthAP2015.csv (10628848, 20)\n",
      "LivingBirthPA2015.csv (10708932, 20)\n",
      "LivingBirthGO2020.csv (10792112, 20)\n",
      "LivingBirthRJ2019.csv (10960073, 20)\n",
      "LivingBirthAP2017.csv (10971029, 20)\n",
      "LivingBirthMA2020.csv (11045798, 20)\n",
      "LivingBirthRR2016.csv (11045798, 20)\n",
      "LivingBirthPI2021.csv (11075065, 20)\n",
      "LivingBirthTO2017.csv (11097348, 20)\n",
      "LivingBirthRO2015.csv (11113927, 20)\n",
      "LivingBirthMT2018.csv (11168433, 20)\n",
      "LivingBirthMT2019.csv (11223224, 20)\n",
      "LivingBirthPB2018.csv (11270948, 20)\n"
     ]
    },
    {
     "name": "stderr",
     "output_type": "stream",
     "text": [
      "/opt/conda/lib/python3.7/site-packages/ipykernel_launcher.py:6: DtypeWarning: Columns (24) have mixed types.Specify dtype option on import or set low_memory=False.\n",
      "  \n"
     ]
    },
    {
     "name": "stdout",
     "output_type": "stream",
     "text": [
      "LivingBirthSP2021.csv (11746430, 20)\n",
      "LivingBirthES2020.csv (11798761, 20)\n",
      "LivingBirthSP2016.csv (11798761, 20)\n",
      "LivingBirthPE2019.csv (11919614, 20)\n",
      "LivingBirthES2021.csv (11970059, 20)\n",
      "LivingBirthAL2019.csv (12007657, 20)\n",
      "LivingBirthMS2018.csv (12050527, 20)\n",
      "LivingBirthGO2016.csv (12050527, 20)\n",
      "LivingBirthRR2015.csv (12060467, 20)\n",
      "LivingBirthMG2015.csv (12226792, 20)\n",
      "LivingBirthSP2017.csv (12770167, 20)\n",
      "LivingBirthAP2018.csv (12782215, 20)\n",
      "LivingBirthMS2016.csv (12782215, 20)\n",
      "LivingBirthSP2019.csv (13312677, 20)\n",
      "LivingBirthPB2015.csv (13358481, 20)\n",
      "LivingBirthPB2016.csv (13358481, 20)\n",
      "LivingBirthRS2019.csv (13478952, 20)\n",
      "LivingBirthTO2016.csv (13478952, 20)\n",
      "LivingBirthMG2021.csv (13680816, 20)\n",
      "LivingBirthRN2020.csv (13713068, 20)\n"
     ]
    }
   ],
   "source": [
    "import os\n",
    "path = \"datasets/\"\n",
    "file_list = os.listdir(path)\n",
    "df = pd.DataFrame()\n",
    "for f in file_list:\n",
    "    df = pd.concat([df, get_clean_data(path+f)])\n",
    "    print(f, df.shape)"
   ]
  },
  {
   "cell_type": "code",
   "execution_count": null,
   "id": "6c68961d-8546-4532-99c8-02ae0893df0e",
   "metadata": {},
   "outputs": [
    {
     "name": "stdout",
     "output_type": "stream",
     "text": [
      "number of records: (13713068, 20)\n"
     ]
    }
   ],
   "source": [
    "print(\"number of records:\", df.shape)"
   ]
  },
  {
   "cell_type": "code",
   "execution_count": null,
   "id": "1f296c54-da70-403e-82ae-6732729e8747",
   "metadata": {},
   "outputs": [],
   "source": [
    "df.to_csv(\"cleaned_data.csv\")"
   ]
  },
  {
   "cell_type": "markdown",
   "id": "59b4cac0-8d07-4758-be53-47e1e26f367c",
   "metadata": {},
   "source": [
    "### Train-Test Split without considering class imbalance"
   ]
  },
  {
   "cell_type": "code",
   "execution_count": null,
   "id": "e13f8b8b-5128-4ab2-8f18-aae8cac3e947",
   "metadata": {},
   "outputs": [],
   "source": [
    "df = pd.read_csv(\"cleaned_data.csv\")"
   ]
  },
  {
   "cell_type": "code",
   "execution_count": null,
   "id": "e1bc1cad-16d9-4f31-bc3b-3de48f0e15aa",
   "metadata": {},
   "outputs": [
    {
     "ename": "MemoryError",
     "evalue": "Unable to allocate 1.53 GiB for an array with shape (15, 13713068) and data type float64",
     "output_type": "error",
     "traceback": [
      "\u001b[0;31m---------------------------------------------------------------------------\u001b[0m",
      "\u001b[0;31mMemoryError\u001b[0m                               Traceback (most recent call last)",
      "\u001b[0;32m/tmp/ipykernel_1/4249422835.py\u001b[0m in \u001b[0;36m<module>\u001b[0;34m\u001b[0m\n\u001b[0;32m----> 1\u001b[0;31m \u001b[0mx\u001b[0m \u001b[0;34m=\u001b[0m \u001b[0mdf\u001b[0m\u001b[0;34m.\u001b[0m\u001b[0mdrop\u001b[0m\u001b[0;34m(\u001b[0m\u001b[0;34m'congenital_anomaly'\u001b[0m\u001b[0;34m,\u001b[0m \u001b[0maxis\u001b[0m\u001b[0;34m=\u001b[0m\u001b[0;36m1\u001b[0m\u001b[0;34m)\u001b[0m\u001b[0;34m\u001b[0m\u001b[0;34m\u001b[0m\u001b[0m\n\u001b[0m",
      "\u001b[0;32m/opt/conda/lib/python3.7/site-packages/pandas/util/_decorators.py\u001b[0m in \u001b[0;36mwrapper\u001b[0;34m(*args, **kwargs)\u001b[0m\n\u001b[1;32m    309\u001b[0m                     \u001b[0mstacklevel\u001b[0m\u001b[0;34m=\u001b[0m\u001b[0mstacklevel\u001b[0m\u001b[0;34m,\u001b[0m\u001b[0;34m\u001b[0m\u001b[0;34m\u001b[0m\u001b[0m\n\u001b[1;32m    310\u001b[0m                 )\n\u001b[0;32m--> 311\u001b[0;31m             \u001b[0;32mreturn\u001b[0m \u001b[0mfunc\u001b[0m\u001b[0;34m(\u001b[0m\u001b[0;34m*\u001b[0m\u001b[0margs\u001b[0m\u001b[0;34m,\u001b[0m \u001b[0;34m**\u001b[0m\u001b[0mkwargs\u001b[0m\u001b[0;34m)\u001b[0m\u001b[0;34m\u001b[0m\u001b[0;34m\u001b[0m\u001b[0m\n\u001b[0m\u001b[1;32m    312\u001b[0m \u001b[0;34m\u001b[0m\u001b[0m\n\u001b[1;32m    313\u001b[0m         \u001b[0;32mreturn\u001b[0m \u001b[0mwrapper\u001b[0m\u001b[0;34m\u001b[0m\u001b[0;34m\u001b[0m\u001b[0m\n",
      "\u001b[0;32m/opt/conda/lib/python3.7/site-packages/pandas/core/frame.py\u001b[0m in \u001b[0;36mdrop\u001b[0;34m(self, labels, axis, index, columns, level, inplace, errors)\u001b[0m\n\u001b[1;32m   4911\u001b[0m             \u001b[0mlevel\u001b[0m\u001b[0;34m=\u001b[0m\u001b[0mlevel\u001b[0m\u001b[0;34m,\u001b[0m\u001b[0;34m\u001b[0m\u001b[0;34m\u001b[0m\u001b[0m\n\u001b[1;32m   4912\u001b[0m             \u001b[0minplace\u001b[0m\u001b[0;34m=\u001b[0m\u001b[0minplace\u001b[0m\u001b[0;34m,\u001b[0m\u001b[0;34m\u001b[0m\u001b[0;34m\u001b[0m\u001b[0m\n\u001b[0;32m-> 4913\u001b[0;31m             \u001b[0merrors\u001b[0m\u001b[0;34m=\u001b[0m\u001b[0merrors\u001b[0m\u001b[0;34m,\u001b[0m\u001b[0;34m\u001b[0m\u001b[0;34m\u001b[0m\u001b[0m\n\u001b[0m\u001b[1;32m   4914\u001b[0m         )\n\u001b[1;32m   4915\u001b[0m \u001b[0;34m\u001b[0m\u001b[0m\n",
      "\u001b[0;32m/opt/conda/lib/python3.7/site-packages/pandas/core/generic.py\u001b[0m in \u001b[0;36mdrop\u001b[0;34m(self, labels, axis, index, columns, level, inplace, errors)\u001b[0m\n\u001b[1;32m   4148\u001b[0m         \u001b[0;32mfor\u001b[0m \u001b[0maxis\u001b[0m\u001b[0;34m,\u001b[0m \u001b[0mlabels\u001b[0m \u001b[0;32min\u001b[0m \u001b[0maxes\u001b[0m\u001b[0;34m.\u001b[0m\u001b[0mitems\u001b[0m\u001b[0;34m(\u001b[0m\u001b[0;34m)\u001b[0m\u001b[0;34m:\u001b[0m\u001b[0;34m\u001b[0m\u001b[0;34m\u001b[0m\u001b[0m\n\u001b[1;32m   4149\u001b[0m             \u001b[0;32mif\u001b[0m \u001b[0mlabels\u001b[0m \u001b[0;32mis\u001b[0m \u001b[0;32mnot\u001b[0m \u001b[0;32mNone\u001b[0m\u001b[0;34m:\u001b[0m\u001b[0;34m\u001b[0m\u001b[0;34m\u001b[0m\u001b[0m\n\u001b[0;32m-> 4150\u001b[0;31m                 \u001b[0mobj\u001b[0m \u001b[0;34m=\u001b[0m \u001b[0mobj\u001b[0m\u001b[0;34m.\u001b[0m\u001b[0m_drop_axis\u001b[0m\u001b[0;34m(\u001b[0m\u001b[0mlabels\u001b[0m\u001b[0;34m,\u001b[0m \u001b[0maxis\u001b[0m\u001b[0;34m,\u001b[0m \u001b[0mlevel\u001b[0m\u001b[0;34m=\u001b[0m\u001b[0mlevel\u001b[0m\u001b[0;34m,\u001b[0m \u001b[0merrors\u001b[0m\u001b[0;34m=\u001b[0m\u001b[0merrors\u001b[0m\u001b[0;34m)\u001b[0m\u001b[0;34m\u001b[0m\u001b[0;34m\u001b[0m\u001b[0m\n\u001b[0m\u001b[1;32m   4151\u001b[0m \u001b[0;34m\u001b[0m\u001b[0m\n\u001b[1;32m   4152\u001b[0m         \u001b[0;32mif\u001b[0m \u001b[0minplace\u001b[0m\u001b[0;34m:\u001b[0m\u001b[0;34m\u001b[0m\u001b[0;34m\u001b[0m\u001b[0m\n",
      "\u001b[0;32m/opt/conda/lib/python3.7/site-packages/pandas/core/generic.py\u001b[0m in \u001b[0;36m_drop_axis\u001b[0;34m(self, labels, axis, level, errors)\u001b[0m\n\u001b[1;32m   4184\u001b[0m             \u001b[0;32melse\u001b[0m\u001b[0;34m:\u001b[0m\u001b[0;34m\u001b[0m\u001b[0;34m\u001b[0m\u001b[0m\n\u001b[1;32m   4185\u001b[0m                 \u001b[0mnew_axis\u001b[0m \u001b[0;34m=\u001b[0m \u001b[0maxis\u001b[0m\u001b[0;34m.\u001b[0m\u001b[0mdrop\u001b[0m\u001b[0;34m(\u001b[0m\u001b[0mlabels\u001b[0m\u001b[0;34m,\u001b[0m \u001b[0merrors\u001b[0m\u001b[0;34m=\u001b[0m\u001b[0merrors\u001b[0m\u001b[0;34m)\u001b[0m\u001b[0;34m\u001b[0m\u001b[0;34m\u001b[0m\u001b[0m\n\u001b[0;32m-> 4186\u001b[0;31m             \u001b[0mresult\u001b[0m \u001b[0;34m=\u001b[0m \u001b[0mself\u001b[0m\u001b[0;34m.\u001b[0m\u001b[0mreindex\u001b[0m\u001b[0;34m(\u001b[0m\u001b[0;34m**\u001b[0m\u001b[0;34m{\u001b[0m\u001b[0maxis_name\u001b[0m\u001b[0;34m:\u001b[0m \u001b[0mnew_axis\u001b[0m\u001b[0;34m}\u001b[0m\u001b[0;34m)\u001b[0m\u001b[0;34m\u001b[0m\u001b[0;34m\u001b[0m\u001b[0m\n\u001b[0m\u001b[1;32m   4187\u001b[0m \u001b[0;34m\u001b[0m\u001b[0m\n\u001b[1;32m   4188\u001b[0m         \u001b[0;31m# Case for non-unique axis\u001b[0m\u001b[0;34m\u001b[0m\u001b[0;34m\u001b[0m\u001b[0;34m\u001b[0m\u001b[0m\n",
      "\u001b[0;32m/opt/conda/lib/python3.7/site-packages/pandas/util/_decorators.py\u001b[0m in \u001b[0;36mwrapper\u001b[0;34m(*args, **kwargs)\u001b[0m\n\u001b[1;32m    322\u001b[0m         \u001b[0;34m@\u001b[0m\u001b[0mwraps\u001b[0m\u001b[0;34m(\u001b[0m\u001b[0mfunc\u001b[0m\u001b[0;34m)\u001b[0m\u001b[0;34m\u001b[0m\u001b[0;34m\u001b[0m\u001b[0m\n\u001b[1;32m    323\u001b[0m         \u001b[0;32mdef\u001b[0m \u001b[0mwrapper\u001b[0m\u001b[0;34m(\u001b[0m\u001b[0;34m*\u001b[0m\u001b[0margs\u001b[0m\u001b[0;34m,\u001b[0m \u001b[0;34m**\u001b[0m\u001b[0mkwargs\u001b[0m\u001b[0;34m)\u001b[0m \u001b[0;34m->\u001b[0m \u001b[0mCallable\u001b[0m\u001b[0;34m[\u001b[0m\u001b[0;34m...\u001b[0m\u001b[0;34m,\u001b[0m \u001b[0mAny\u001b[0m\u001b[0;34m]\u001b[0m\u001b[0;34m:\u001b[0m\u001b[0;34m\u001b[0m\u001b[0;34m\u001b[0m\u001b[0m\n\u001b[0;32m--> 324\u001b[0;31m             \u001b[0;32mreturn\u001b[0m \u001b[0mfunc\u001b[0m\u001b[0;34m(\u001b[0m\u001b[0;34m*\u001b[0m\u001b[0margs\u001b[0m\u001b[0;34m,\u001b[0m \u001b[0;34m**\u001b[0m\u001b[0mkwargs\u001b[0m\u001b[0;34m)\u001b[0m\u001b[0;34m\u001b[0m\u001b[0;34m\u001b[0m\u001b[0m\n\u001b[0m\u001b[1;32m    325\u001b[0m \u001b[0;34m\u001b[0m\u001b[0m\n\u001b[1;32m    326\u001b[0m         \u001b[0mkind\u001b[0m \u001b[0;34m=\u001b[0m \u001b[0minspect\u001b[0m\u001b[0;34m.\u001b[0m\u001b[0mParameter\u001b[0m\u001b[0;34m.\u001b[0m\u001b[0mPOSITIONAL_OR_KEYWORD\u001b[0m\u001b[0;34m\u001b[0m\u001b[0;34m\u001b[0m\u001b[0m\n",
      "\u001b[0;32m/opt/conda/lib/python3.7/site-packages/pandas/core/frame.py\u001b[0m in \u001b[0;36mreindex\u001b[0;34m(self, *args, **kwargs)\u001b[0m\n\u001b[1;32m   4770\u001b[0m         \u001b[0mkwargs\u001b[0m\u001b[0;34m.\u001b[0m\u001b[0mpop\u001b[0m\u001b[0;34m(\u001b[0m\u001b[0;34m\"axis\"\u001b[0m\u001b[0;34m,\u001b[0m \u001b[0;32mNone\u001b[0m\u001b[0;34m)\u001b[0m\u001b[0;34m\u001b[0m\u001b[0;34m\u001b[0m\u001b[0m\n\u001b[1;32m   4771\u001b[0m         \u001b[0mkwargs\u001b[0m\u001b[0;34m.\u001b[0m\u001b[0mpop\u001b[0m\u001b[0;34m(\u001b[0m\u001b[0;34m\"labels\"\u001b[0m\u001b[0;34m,\u001b[0m \u001b[0;32mNone\u001b[0m\u001b[0;34m)\u001b[0m\u001b[0;34m\u001b[0m\u001b[0;34m\u001b[0m\u001b[0m\n\u001b[0;32m-> 4772\u001b[0;31m         \u001b[0;32mreturn\u001b[0m \u001b[0msuper\u001b[0m\u001b[0;34m(\u001b[0m\u001b[0;34m)\u001b[0m\u001b[0;34m.\u001b[0m\u001b[0mreindex\u001b[0m\u001b[0;34m(\u001b[0m\u001b[0;34m**\u001b[0m\u001b[0mkwargs\u001b[0m\u001b[0;34m)\u001b[0m\u001b[0;34m\u001b[0m\u001b[0;34m\u001b[0m\u001b[0m\n\u001b[0m\u001b[1;32m   4773\u001b[0m \u001b[0;34m\u001b[0m\u001b[0m\n\u001b[1;32m   4774\u001b[0m     \u001b[0;34m@\u001b[0m\u001b[0mdeprecate_nonkeyword_arguments\u001b[0m\u001b[0;34m(\u001b[0m\u001b[0mversion\u001b[0m\u001b[0;34m=\u001b[0m\u001b[0;32mNone\u001b[0m\u001b[0;34m,\u001b[0m \u001b[0mallowed_args\u001b[0m\u001b[0;34m=\u001b[0m\u001b[0;34m[\u001b[0m\u001b[0;34m\"self\"\u001b[0m\u001b[0;34m,\u001b[0m \u001b[0;34m\"labels\"\u001b[0m\u001b[0;34m]\u001b[0m\u001b[0;34m)\u001b[0m\u001b[0;34m\u001b[0m\u001b[0;34m\u001b[0m\u001b[0m\n",
      "\u001b[0;32m/opt/conda/lib/python3.7/site-packages/pandas/core/generic.py\u001b[0m in \u001b[0;36mreindex\u001b[0;34m(self, *args, **kwargs)\u001b[0m\n\u001b[1;32m   4817\u001b[0m         \u001b[0;31m# perform the reindex on the axes\u001b[0m\u001b[0;34m\u001b[0m\u001b[0;34m\u001b[0m\u001b[0;34m\u001b[0m\u001b[0m\n\u001b[1;32m   4818\u001b[0m         return self._reindex_axes(\n\u001b[0;32m-> 4819\u001b[0;31m             \u001b[0maxes\u001b[0m\u001b[0;34m,\u001b[0m \u001b[0mlevel\u001b[0m\u001b[0;34m,\u001b[0m \u001b[0mlimit\u001b[0m\u001b[0;34m,\u001b[0m \u001b[0mtolerance\u001b[0m\u001b[0;34m,\u001b[0m \u001b[0mmethod\u001b[0m\u001b[0;34m,\u001b[0m \u001b[0mfill_value\u001b[0m\u001b[0;34m,\u001b[0m \u001b[0mcopy\u001b[0m\u001b[0;34m\u001b[0m\u001b[0;34m\u001b[0m\u001b[0m\n\u001b[0m\u001b[1;32m   4820\u001b[0m         ).__finalize__(self, method=\"reindex\")\n\u001b[1;32m   4821\u001b[0m \u001b[0;34m\u001b[0m\u001b[0m\n",
      "\u001b[0;32m/opt/conda/lib/python3.7/site-packages/pandas/core/frame.py\u001b[0m in \u001b[0;36m_reindex_axes\u001b[0;34m(self, axes, level, limit, tolerance, method, fill_value, copy)\u001b[0m\n\u001b[1;32m   4590\u001b[0m         \u001b[0;32mif\u001b[0m \u001b[0mcolumns\u001b[0m \u001b[0;32mis\u001b[0m \u001b[0;32mnot\u001b[0m \u001b[0;32mNone\u001b[0m\u001b[0;34m:\u001b[0m\u001b[0;34m\u001b[0m\u001b[0;34m\u001b[0m\u001b[0m\n\u001b[1;32m   4591\u001b[0m             frame = frame._reindex_columns(\n\u001b[0;32m-> 4592\u001b[0;31m                 \u001b[0mcolumns\u001b[0m\u001b[0;34m,\u001b[0m \u001b[0mmethod\u001b[0m\u001b[0;34m,\u001b[0m \u001b[0mcopy\u001b[0m\u001b[0;34m,\u001b[0m \u001b[0mlevel\u001b[0m\u001b[0;34m,\u001b[0m \u001b[0mfill_value\u001b[0m\u001b[0;34m,\u001b[0m \u001b[0mlimit\u001b[0m\u001b[0;34m,\u001b[0m \u001b[0mtolerance\u001b[0m\u001b[0;34m\u001b[0m\u001b[0;34m\u001b[0m\u001b[0m\n\u001b[0m\u001b[1;32m   4593\u001b[0m             )\n\u001b[1;32m   4594\u001b[0m \u001b[0;34m\u001b[0m\u001b[0m\n",
      "\u001b[0;32m/opt/conda/lib/python3.7/site-packages/pandas/core/frame.py\u001b[0m in \u001b[0;36m_reindex_columns\u001b[0;34m(self, new_columns, method, copy, level, fill_value, limit, tolerance)\u001b[0m\n\u001b[1;32m   4638\u001b[0m             \u001b[0mcopy\u001b[0m\u001b[0;34m=\u001b[0m\u001b[0mcopy\u001b[0m\u001b[0;34m,\u001b[0m\u001b[0;34m\u001b[0m\u001b[0;34m\u001b[0m\u001b[0m\n\u001b[1;32m   4639\u001b[0m             \u001b[0mfill_value\u001b[0m\u001b[0;34m=\u001b[0m\u001b[0mfill_value\u001b[0m\u001b[0;34m,\u001b[0m\u001b[0;34m\u001b[0m\u001b[0;34m\u001b[0m\u001b[0m\n\u001b[0;32m-> 4640\u001b[0;31m             \u001b[0mallow_dups\u001b[0m\u001b[0;34m=\u001b[0m\u001b[0;32mFalse\u001b[0m\u001b[0;34m,\u001b[0m\u001b[0;34m\u001b[0m\u001b[0;34m\u001b[0m\u001b[0m\n\u001b[0m\u001b[1;32m   4641\u001b[0m         )\n\u001b[1;32m   4642\u001b[0m \u001b[0;34m\u001b[0m\u001b[0m\n",
      "\u001b[0;32m/opt/conda/lib/python3.7/site-packages/pandas/core/generic.py\u001b[0m in \u001b[0;36m_reindex_with_indexers\u001b[0;34m(self, reindexers, fill_value, copy, allow_dups)\u001b[0m\n\u001b[1;32m   4887\u001b[0m                 \u001b[0mfill_value\u001b[0m\u001b[0;34m=\u001b[0m\u001b[0mfill_value\u001b[0m\u001b[0;34m,\u001b[0m\u001b[0;34m\u001b[0m\u001b[0;34m\u001b[0m\u001b[0m\n\u001b[1;32m   4888\u001b[0m                 \u001b[0mallow_dups\u001b[0m\u001b[0;34m=\u001b[0m\u001b[0mallow_dups\u001b[0m\u001b[0;34m,\u001b[0m\u001b[0;34m\u001b[0m\u001b[0;34m\u001b[0m\u001b[0m\n\u001b[0;32m-> 4889\u001b[0;31m                 \u001b[0mcopy\u001b[0m\u001b[0;34m=\u001b[0m\u001b[0mcopy\u001b[0m\u001b[0;34m,\u001b[0m\u001b[0;34m\u001b[0m\u001b[0;34m\u001b[0m\u001b[0m\n\u001b[0m\u001b[1;32m   4890\u001b[0m             )\n\u001b[1;32m   4891\u001b[0m             \u001b[0;31m# If we've made a copy once, no need to make another one\u001b[0m\u001b[0;34m\u001b[0m\u001b[0;34m\u001b[0m\u001b[0;34m\u001b[0m\u001b[0m\n",
      "\u001b[0;32m/opt/conda/lib/python3.7/site-packages/pandas/core/internals/managers.py\u001b[0m in \u001b[0;36mreindex_indexer\u001b[0;34m(self, new_axis, indexer, axis, fill_value, allow_dups, copy, consolidate, only_slice)\u001b[0m\n\u001b[1;32m    675\u001b[0m         \u001b[0;32mif\u001b[0m \u001b[0maxis\u001b[0m \u001b[0;34m==\u001b[0m \u001b[0;36m0\u001b[0m\u001b[0;34m:\u001b[0m\u001b[0;34m\u001b[0m\u001b[0;34m\u001b[0m\u001b[0m\n\u001b[1;32m    676\u001b[0m             new_blocks = self._slice_take_blocks_ax0(\n\u001b[0;32m--> 677\u001b[0;31m                 \u001b[0mindexer\u001b[0m\u001b[0;34m,\u001b[0m \u001b[0mfill_value\u001b[0m\u001b[0;34m=\u001b[0m\u001b[0mfill_value\u001b[0m\u001b[0;34m,\u001b[0m \u001b[0monly_slice\u001b[0m\u001b[0;34m=\u001b[0m\u001b[0monly_slice\u001b[0m\u001b[0;34m\u001b[0m\u001b[0;34m\u001b[0m\u001b[0m\n\u001b[0m\u001b[1;32m    678\u001b[0m             )\n\u001b[1;32m    679\u001b[0m         \u001b[0;32melse\u001b[0m\u001b[0;34m:\u001b[0m\u001b[0;34m\u001b[0m\u001b[0;34m\u001b[0m\u001b[0m\n",
      "\u001b[0;32m/opt/conda/lib/python3.7/site-packages/pandas/core/internals/managers.py\u001b[0m in \u001b[0;36m_slice_take_blocks_ax0\u001b[0;34m(self, slice_or_indexer, fill_value, only_slice)\u001b[0m\n\u001b[1;32m    817\u001b[0m                             \u001b[0mblocks\u001b[0m\u001b[0;34m.\u001b[0m\u001b[0mappend\u001b[0m\u001b[0;34m(\u001b[0m\u001b[0mnb\u001b[0m\u001b[0;34m)\u001b[0m\u001b[0;34m\u001b[0m\u001b[0;34m\u001b[0m\u001b[0m\n\u001b[1;32m    818\u001b[0m                     \u001b[0;32melse\u001b[0m\u001b[0;34m:\u001b[0m\u001b[0;34m\u001b[0m\u001b[0;34m\u001b[0m\u001b[0m\n\u001b[0;32m--> 819\u001b[0;31m                         \u001b[0mnb\u001b[0m \u001b[0;34m=\u001b[0m \u001b[0mblk\u001b[0m\u001b[0;34m.\u001b[0m\u001b[0mtake_nd\u001b[0m\u001b[0;34m(\u001b[0m\u001b[0mtaker\u001b[0m\u001b[0;34m,\u001b[0m \u001b[0maxis\u001b[0m\u001b[0;34m=\u001b[0m\u001b[0;36m0\u001b[0m\u001b[0;34m,\u001b[0m \u001b[0mnew_mgr_locs\u001b[0m\u001b[0;34m=\u001b[0m\u001b[0mmgr_locs\u001b[0m\u001b[0;34m)\u001b[0m\u001b[0;34m\u001b[0m\u001b[0;34m\u001b[0m\u001b[0m\n\u001b[0m\u001b[1;32m    820\u001b[0m                         \u001b[0mblocks\u001b[0m\u001b[0;34m.\u001b[0m\u001b[0mappend\u001b[0m\u001b[0;34m(\u001b[0m\u001b[0mnb\u001b[0m\u001b[0;34m)\u001b[0m\u001b[0;34m\u001b[0m\u001b[0;34m\u001b[0m\u001b[0m\n\u001b[1;32m    821\u001b[0m \u001b[0;34m\u001b[0m\u001b[0m\n",
      "\u001b[0;32m/opt/conda/lib/python3.7/site-packages/pandas/core/internals/blocks.py\u001b[0m in \u001b[0;36mtake_nd\u001b[0;34m(self, indexer, axis, new_mgr_locs, fill_value)\u001b[0m\n\u001b[1;32m   1143\u001b[0m \u001b[0;34m\u001b[0m\u001b[0m\n\u001b[1;32m   1144\u001b[0m         new_values = algos.take_nd(\n\u001b[0;32m-> 1145\u001b[0;31m             \u001b[0mvalues\u001b[0m\u001b[0;34m,\u001b[0m \u001b[0mindexer\u001b[0m\u001b[0;34m,\u001b[0m \u001b[0maxis\u001b[0m\u001b[0;34m=\u001b[0m\u001b[0maxis\u001b[0m\u001b[0;34m,\u001b[0m \u001b[0mallow_fill\u001b[0m\u001b[0;34m=\u001b[0m\u001b[0mallow_fill\u001b[0m\u001b[0;34m,\u001b[0m \u001b[0mfill_value\u001b[0m\u001b[0;34m=\u001b[0m\u001b[0mfill_value\u001b[0m\u001b[0;34m\u001b[0m\u001b[0;34m\u001b[0m\u001b[0m\n\u001b[0m\u001b[1;32m   1146\u001b[0m         )\n\u001b[1;32m   1147\u001b[0m \u001b[0;34m\u001b[0m\u001b[0m\n",
      "\u001b[0;32m/opt/conda/lib/python3.7/site-packages/pandas/core/array_algos/take.py\u001b[0m in \u001b[0;36mtake_nd\u001b[0;34m(arr, indexer, axis, fill_value, allow_fill)\u001b[0m\n\u001b[1;32m    106\u001b[0m \u001b[0;34m\u001b[0m\u001b[0m\n\u001b[1;32m    107\u001b[0m     \u001b[0marr\u001b[0m \u001b[0;34m=\u001b[0m \u001b[0mnp\u001b[0m\u001b[0;34m.\u001b[0m\u001b[0masarray\u001b[0m\u001b[0;34m(\u001b[0m\u001b[0marr\u001b[0m\u001b[0;34m)\u001b[0m\u001b[0;34m\u001b[0m\u001b[0;34m\u001b[0m\u001b[0m\n\u001b[0;32m--> 108\u001b[0;31m     \u001b[0;32mreturn\u001b[0m \u001b[0m_take_nd_ndarray\u001b[0m\u001b[0;34m(\u001b[0m\u001b[0marr\u001b[0m\u001b[0;34m,\u001b[0m \u001b[0mindexer\u001b[0m\u001b[0;34m,\u001b[0m \u001b[0maxis\u001b[0m\u001b[0;34m,\u001b[0m \u001b[0mfill_value\u001b[0m\u001b[0;34m,\u001b[0m \u001b[0mallow_fill\u001b[0m\u001b[0;34m)\u001b[0m\u001b[0;34m\u001b[0m\u001b[0;34m\u001b[0m\u001b[0m\n\u001b[0m\u001b[1;32m    109\u001b[0m \u001b[0;34m\u001b[0m\u001b[0m\n\u001b[1;32m    110\u001b[0m \u001b[0;34m\u001b[0m\u001b[0m\n",
      "\u001b[0;32m/opt/conda/lib/python3.7/site-packages/pandas/core/array_algos/take.py\u001b[0m in \u001b[0;36m_take_nd_ndarray\u001b[0;34m(arr, indexer, axis, fill_value, allow_fill)\u001b[0m\n\u001b[1;32m    147\u001b[0m         \u001b[0mout\u001b[0m \u001b[0;34m=\u001b[0m \u001b[0mnp\u001b[0m\u001b[0;34m.\u001b[0m\u001b[0mempty\u001b[0m\u001b[0;34m(\u001b[0m\u001b[0mout_shape\u001b[0m\u001b[0;34m,\u001b[0m \u001b[0mdtype\u001b[0m\u001b[0;34m=\u001b[0m\u001b[0mdtype\u001b[0m\u001b[0;34m,\u001b[0m \u001b[0morder\u001b[0m\u001b[0;34m=\u001b[0m\u001b[0;34m\"F\"\u001b[0m\u001b[0;34m)\u001b[0m\u001b[0;34m\u001b[0m\u001b[0;34m\u001b[0m\u001b[0m\n\u001b[1;32m    148\u001b[0m     \u001b[0;32melse\u001b[0m\u001b[0;34m:\u001b[0m\u001b[0;34m\u001b[0m\u001b[0;34m\u001b[0m\u001b[0m\n\u001b[0;32m--> 149\u001b[0;31m         \u001b[0mout\u001b[0m \u001b[0;34m=\u001b[0m \u001b[0mnp\u001b[0m\u001b[0;34m.\u001b[0m\u001b[0mempty\u001b[0m\u001b[0;34m(\u001b[0m\u001b[0mout_shape\u001b[0m\u001b[0;34m,\u001b[0m \u001b[0mdtype\u001b[0m\u001b[0;34m=\u001b[0m\u001b[0mdtype\u001b[0m\u001b[0;34m)\u001b[0m\u001b[0;34m\u001b[0m\u001b[0;34m\u001b[0m\u001b[0m\n\u001b[0m\u001b[1;32m    150\u001b[0m \u001b[0;34m\u001b[0m\u001b[0m\n\u001b[1;32m    151\u001b[0m     func = _get_take_nd_function(\n",
      "\u001b[0;31mMemoryError\u001b[0m: Unable to allocate 1.53 GiB for an array with shape (15, 13713068) and data type float64"
     ]
    }
   ],
   "source": [
    "df = df.drop('congenital_anomaly', axis=1)"
   ]
  },
  {
   "cell_type": "code",
   "execution_count": null,
   "id": "e27ad378-bdac-4c24-a277-882a44d7231f",
   "metadata": {},
   "outputs": [],
   "source": [
    "print(len(y))"
   ]
  },
  {
   "cell_type": "code",
   "execution_count": null,
   "id": "b89b8b5e-683c-44a8-915a-a630784d6395",
   "metadata": {},
   "outputs": [],
   "source": [
    "import sklearn\n",
    "sklearn.model_selection.train_test_split"
   ]
  }
 ],
 "metadata": {
  "kernelspec": {
   "display_name": "PySpark (Local)",
   "language": "python",
   "name": "local-pyspark"
  },
  "language_info": {
   "codemirror_mode": {
    "name": "ipython",
    "version": 3
   },
   "file_extension": ".py",
   "mimetype": "text/x-python",
   "name": "python",
   "nbconvert_exporter": "python",
   "pygments_lexer": "ipython3",
   "version": "3.7.12"
  }
 },
 "nbformat": 4,
 "nbformat_minor": 5
}
